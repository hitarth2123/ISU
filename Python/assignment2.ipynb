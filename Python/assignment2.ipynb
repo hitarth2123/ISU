{
 "cells": [
  {
   "cell_type": "markdown",
   "metadata": {},
   "source": [
    "                                                                                        Assignment 2               "
   ]
  },
  {
   "cell_type": "markdown",
   "metadata": {},
   "source": [
    "Hitarth Patel  \n",
    "150096724046"
   ]
  },
  {
   "cell_type": "markdown",
   "metadata": {},
   "source": [
    "Functions and Modules"
   ]
  },
  {
   "cell_type": "markdown",
   "metadata": {},
   "source": [
    "1. Write a Python function that accepts a string and counts the number of upper and lower\n",
    "case letters.\n",
    "Sample String : 'The quick Brow Fox'\n",
    "Expected Output :\n",
    "No. of Upper case characters : 3\n",
    "No. of Lower case Characters : 12"
   ]
  },
  {
   "cell_type": "code",
   "execution_count": 46,
   "metadata": {},
   "outputs": [
    {
     "name": "stdout",
     "output_type": "stream",
     "text": [
      "No. of Upper case characters : 3\n",
      "No. of Lower case Characters : 12\n"
     ]
    }
   ],
   "source": [
    "\n",
    "def count_case(string):\n",
    "    upper_count = sum(1 for char in string if char.isupper())\n",
    "    lower_count = sum(1 for char in string if char.islower())\n",
    "    return upper_count, lower_count\n",
    "\n",
    "sample_string = 'The quick Brow Fox'\n",
    "upper, lower = count_case(sample_string)\n",
    "print(f\"No. of Upper case characters : {upper}\")\n",
    "print(f\"No. of Lower case Characters : {lower}\")\n"
   ]
  },
  {
   "cell_type": "markdown",
   "metadata": {},
   "source": [
    "2. Write a Python function that takes a list and returns a new list with distinct elements from\n",
    "the first list.\n",
    "Sample List : [1,2,3,3,3,3,4,5]\n",
    "Unique List : [1, 2, 3, 4, 5]"
   ]
  },
  {
   "cell_type": "code",
   "execution_count": 3,
   "metadata": {},
   "outputs": [
    {
     "name": "stdout",
     "output_type": "stream",
     "text": [
      "Unique List : [1, 2, 3, 4, 5]\n"
     ]
    }
   ],
   "source": [
    "\n",
    "def get_unique_list(input_list):\n",
    "    return list(dict.fromkeys(input_list))\n",
    "\n",
    "sample_list = [1,2,3,3,3,3,4,5]\n",
    "unique_list = get_unique_list(sample_list)\n",
    "print(f\"Unique List : {unique_list}\")\n"
   ]
  },
  {
   "cell_type": "markdown",
   "metadata": {},
   "source": [
    "3.Write a Python function to check whether a number is \"Perfect\" or not.\n",
    "Hint: In number theory, a perfect number is a positive integer that is equal to the sum of\n",
    "its proper positive divisors, that is, the sum of its positive divisors excluding the number\n",
    "itself (also known as its aliquot sum). Equivalently, a perfect number is a number that is\n",
    "half the sum of all of its positive divisors (including itself).\n",
    "Example : The first perfect number is 6, because 1, 2, and 3 are its proper positive\n",
    "divisors, and 1 + 2 + 3 = 6. Equivalently, the number 6 is equal to half the sum of all its\n",
    "positive divisors: ( 1 + 2 + 3 + 6 ) / 2 = 6. The next perfect number is 28 = 1 + 2 + 4 + 7 +\n",
    "14. This is followed by the perfect numbers 496 and 8128."
   ]
  },
  {
   "cell_type": "code",
   "execution_count": 4,
   "metadata": {},
   "outputs": [],
   "source": [
    "\n",
    "def is_perfect(num):\n",
    "    return sum(i for i in range(1, num) if num % i == 0) == num\n"
   ]
  },
  {
   "cell_type": "markdown",
   "metadata": {},
   "source": [
    "4. Write a Python program that accepts a hyphen-separated sequence of words as input and\n",
    "prints the words in a hyphen-separated sequence after sorting them alphabetically."
   ]
  },
  {
   "cell_type": "code",
   "execution_count": 5,
   "metadata": {},
   "outputs": [],
   "source": [
    "\n",
    "def sort_hyphen_words(input_string):\n",
    "    return '-'.join(sorted(input_string.split('-')))\n"
   ]
  },
  {
   "cell_type": "markdown",
   "metadata": {},
   "source": [
    "5. WAP to demonstrate the functionality of positional argument in functions"
   ]
  },
  {
   "cell_type": "code",
   "execution_count": 6,
   "metadata": {},
   "outputs": [],
   "source": [
    "def positional_args(a, b, c):\n",
    "    print(f\"Positional args: {a}, {b}, {c}\")\n",
    "\n"
   ]
  },
  {
   "cell_type": "markdown",
   "metadata": {},
   "source": [
    "6. WAP to demonstrate the functionality of keyword argument in functions"
   ]
  },
  {
   "cell_type": "code",
   "execution_count": 7,
   "metadata": {},
   "outputs": [],
   "source": [
    "def keyword_args(a=1, b=2, c=3):\n",
    "    print(f\"Keyword args: a={a}, b={b}, c={c}\")\n",
    "\n",
    "\n"
   ]
  },
  {
   "cell_type": "markdown",
   "metadata": {},
   "source": [
    "7. WAP to demonstrate how positional arguments and keyword arguments can be used in\n",
    "functions"
   ]
  },
  {
   "cell_type": "code",
   "execution_count": 8,
   "metadata": {},
   "outputs": [],
   "source": [
    "\n",
    "def mixed_args(a, b, c=3, d=4):\n",
    "    print(f\"Mixed args: a={a}, b={b}, c={c}, d={d}\")\n",
    "\n"
   ]
  },
  {
   "cell_type": "markdown",
   "metadata": {},
   "source": [
    "8. WAP to demonstrate the functionality of default argument in functions"
   ]
  },
  {
   "cell_type": "code",
   "execution_count": 9,
   "metadata": {},
   "outputs": [],
   "source": [
    "\n",
    "def default_arg(a=1):\n",
    "    print(f\"Default arg: {a}\")\n",
    "\n"
   ]
  },
  {
   "cell_type": "markdown",
   "metadata": {},
   "source": [
    "9. WAP to demonstrate how variable length arguments are used in functions."
   ]
  },
  {
   "cell_type": "code",
   "execution_count": 10,
   "metadata": {},
   "outputs": [],
   "source": [
    "def variable_args(*args):\n",
    "    print(f\"Variable args: {args}\")\n",
    "\n"
   ]
  },
  {
   "cell_type": "markdown",
   "metadata": {},
   "source": [
    "10. WAP to demonstrate how variable length keyword arguments are used in functions."
   ]
  },
  {
   "cell_type": "code",
   "execution_count": 11,
   "metadata": {},
   "outputs": [],
   "source": [
    "def variable_kwargs(**kwargs):\n",
    "    print(f\"Variable kwargs: {kwargs}\")"
   ]
  },
  {
   "cell_type": "markdown",
   "metadata": {},
   "source": [
    "11. WAP to demonstrate how to create your own modules for common mathematical\n",
    "operations and import it and use it."
   ]
  },
  {
   "cell_type": "code",
   "execution_count": 12,
   "metadata": {},
   "outputs": [],
   "source": [
    "\n",
    "def add(a, b):\n",
    "    return a + b\n",
    "\n",
    "def subtract(a, b):\n",
    "    return a - b\n",
    "\n",
    "def multiply(a, b):\n",
    "    return a * b\n",
    "\n",
    "def divide(a, b):\n",
    "    return a / b if b != 0 else \"Error: Division by zero\"\n"
   ]
  },
  {
   "cell_type": "markdown",
   "metadata": {},
   "source": [
    "12. WAP to demonstrate following functions in math module:\n",
    "a. Ceil\n",
    "b. Trunc\n",
    "c. Floor\n",
    "d. Factorial\n",
    "e. Fabs\n",
    "f. Pow\n",
    "g. Fmod\n",
    "h. Fsum\n",
    "i. Prod\n",
    "j. sqrt"
   ]
  },
  {
   "cell_type": "code",
   "execution_count": 13,
   "metadata": {},
   "outputs": [
    {
     "name": "stdout",
     "output_type": "stream",
     "text": [
      "Ceil of 4.3: 5\n",
      "Trunc of 4.3: 4\n",
      "Floor of 4.3: 4\n",
      "Factorial of 5: 120\n",
      "Absolute value of -4.3: 4.3\n",
      "4 to the power of 3: 64.0\n",
      "Remainder of 10/3: 1.0\n",
      "Sum of [1, 2, 3, 4]: 10.0\n",
      "Product of [1, 2, 3, 4]: 24\n",
      "Square root of 16: 4.0\n"
     ]
    }
   ],
   "source": [
    "import math\n",
    "\n",
    "print(f\"Ceil of 4.3: {math.ceil(4.3)}\")\n",
    "print(f\"Trunc of 4.3: {math.trunc(4.3)}\")\n",
    "print(f\"Floor of 4.3: {math.floor(4.3)}\")\n",
    "print(f\"Factorial of 5: {math.factorial(5)}\")\n",
    "print(f\"Absolute value of -4.3: {math.fabs(-4.3)}\")\n",
    "print(f\"4 to the power of 3: {math.pow(4, 3)}\")\n",
    "print(f\"Remainder of 10/3: {math.fmod(10, 3)}\")\n",
    "print(f\"Sum of [1, 2, 3, 4]: {math.fsum([1, 2, 3, 4])}\")\n",
    "print(f\"Product of [1, 2, 3, 4]: {math.prod([1, 2, 3, 4])}\")\n",
    "print(f\"Square root of 16: {math.sqrt(16)}\")"
   ]
  },
  {
   "cell_type": "markdown",
   "metadata": {},
   "source": [
    "13. WAP to demonstrate following functions in random module:\n",
    "a. random()\n",
    "b. randint()\n",
    "c. uniform()\n",
    "d. choice()\n",
    "e. shuffle()\n",
    "f. randrange()"
   ]
  },
  {
   "cell_type": "code",
   "execution_count": 14,
   "metadata": {},
   "outputs": [
    {
     "name": "stdout",
     "output_type": "stream",
     "text": [
      "Random float: 0.9004806545807409\n",
      "Random integer between 1 and 10: 1\n",
      "Random float between 1 and 10: 9.827335494656898\n",
      "Random choice from [1, 2, 3, 4, 5]: 4\n",
      "Shuffled list: [1, 5, 2, 3, 4]\n",
      "Random range (1, 10, 2): 3\n"
     ]
    }
   ],
   "source": [
    "import random\n",
    "\n",
    "print(f\"Random float: {random.random()}\")\n",
    "print(f\"Random integer between 1 and 10: {random.randint(1, 10)}\")\n",
    "print(f\"Random float between 1 and 10: {random.uniform(1, 10)}\")\n",
    "print(f\"Random choice from [1, 2, 3, 4, 5]: {random.choice([1, 2, 3, 4, 5])}\")\n",
    "my_list = [1, 2, 3, 4, 5]\n",
    "random.shuffle(my_list)\n",
    "print(f\"Shuffled list: {my_list}\")\n",
    "print(f\"Random range (1, 10, 2): {random.randrange(1, 10, 2)}\")\n"
   ]
  },
  {
   "cell_type": "markdown",
   "metadata": {},
   "source": [
    "List"
   ]
  },
  {
   "cell_type": "markdown",
   "metadata": {},
   "source": [
    "14. Write a Python program to remove duplicates from a list."
   ]
  },
  {
   "cell_type": "code",
   "execution_count": 15,
   "metadata": {},
   "outputs": [],
   "source": [
    "\n",
    "def remove_duplicates(lst):\n",
    "    return list(dict.fromkeys(lst))\n",
    "\n",
    "\n"
   ]
  },
  {
   "cell_type": "markdown",
   "metadata": {},
   "source": [
    "15. Write a Python func;on that takes two lists and returns True if they have at least one\n",
    "common member."
   ]
  },
  {
   "cell_type": "code",
   "execution_count": 16,
   "metadata": {},
   "outputs": [],
   "source": [
    "\n",
    "def has_common_member(lst1, lst2):\n",
    "    return bool(set(lst1) & set(lst2))\n"
   ]
  },
  {
   "cell_type": "markdown",
   "metadata": {},
   "source": [
    "16. Write a Python program to print the numbers of a specified list aBer removing even\n",
    "numbers from it."
   ]
  },
  {
   "cell_type": "code",
   "execution_count": 17,
   "metadata": {},
   "outputs": [],
   "source": [
    "\n",
    "def remove_even(lst):\n",
    "    return [x for x in lst if x % 2 != 0]\n",
    "\n"
   ]
  },
  {
   "cell_type": "markdown",
   "metadata": {},
   "source": [
    "17. Write a Python program to find the second smallest number in a list."
   ]
  },
  {
   "cell_type": "code",
   "execution_count": 18,
   "metadata": {},
   "outputs": [],
   "source": [
    "\n",
    "def second_smallest(lst):\n",
    "    return sorted(set(lst))[1] if len(set(lst)) > 1 else None\n"
   ]
  },
  {
   "cell_type": "markdown",
   "metadata": {},
   "source": [
    "18. Write a Python program to split a list every Nth element."
   ]
  },
  {
   "cell_type": "code",
   "execution_count": 19,
   "metadata": {},
   "outputs": [],
   "source": [
    "def split_list(lst, n):\n",
    "    return [lst[i:i+n] for i in range(0, len(lst), n)]\n"
   ]
  },
  {
   "cell_type": "markdown",
   "metadata": {},
   "source": [
    "19. Write a Python func;on to find the union and intersec;on of two lists."
   ]
  },
  {
   "cell_type": "code",
   "execution_count": 20,
   "metadata": {},
   "outputs": [],
   "source": [
    "def union_intersection(lst1, lst2):\n",
    "    return list(set(lst1) | set(lst2)), list(set(lst1) & set(lst2))\n"
   ]
  },
  {
   "cell_type": "markdown",
   "metadata": {},
   "source": [
    "20. Write a Python func;on to check if a list is a palindrome or not. Return true otherwise\n",
    "false."
   ]
  },
  {
   "cell_type": "code",
   "execution_count": 21,
   "metadata": {},
   "outputs": [
    {
     "name": "stdout",
     "output_type": "stream",
     "text": [
      "\n"
     ]
    }
   ],
   "source": [
    "def is_palindrome(lst):\n",
    "    return lst == lst[::-1]\n",
    "print()"
   ]
  },
  {
   "cell_type": "markdown",
   "metadata": {},
   "source": [
    "21. WAP to create a menu based program for insertion, deletion, access, updation, traversal\n",
    "of list elements."
   ]
  },
  {
   "cell_type": "code",
   "execution_count": 22,
   "metadata": {},
   "outputs": [
    {
     "name": "stdout",
     "output_type": "stream",
     "text": [
      "\n",
      "List Operations Menu:\n",
      "1. Insert element\n",
      "2. Delete element\n",
      "3. Access element\n",
      "4. Update element\n",
      "5. Traverse list\n",
      "6. Exit\n",
      "Element 'hello' inserted at index 1\n",
      "\n",
      "List Operations Menu:\n",
      "1. Insert element\n",
      "2. Delete element\n",
      "3. Access element\n",
      "4. Update element\n",
      "5. Traverse list\n",
      "6. Exit\n",
      "Element 'bye' inserted at index 2\n",
      "\n",
      "List Operations Menu:\n",
      "1. Insert element\n",
      "2. Delete element\n",
      "3. Access element\n",
      "4. Update element\n",
      "5. Traverse list\n",
      "6. Exit\n",
      "Element 'gghgdgh' inserted at index 3\n",
      "\n",
      "List Operations Menu:\n",
      "1. Insert element\n",
      "2. Delete element\n",
      "3. Access element\n",
      "4. Update element\n",
      "5. Traverse list\n",
      "6. Exit\n",
      "Invalid index\n",
      "\n",
      "List Operations Menu:\n",
      "1. Insert element\n",
      "2. Delete element\n",
      "3. Access element\n",
      "4. Update element\n",
      "5. Traverse list\n",
      "6. Exit\n",
      "Updated element at index 1 to 'hi'\n",
      "\n",
      "List Operations Menu:\n",
      "1. Insert element\n",
      "2. Delete element\n",
      "3. Access element\n",
      "4. Update element\n",
      "5. Traverse list\n",
      "6. Exit\n",
      "Exiting program.\n"
     ]
    }
   ],
   "source": [
    "\n",
    "\n",
    "def list_operations():\n",
    "    my_list = []\n",
    "    \n",
    "    while True:\n",
    "        print(\"\\nList Operations Menu:\")\n",
    "        print(\"1. Insert element\")\n",
    "        print(\"2. Delete element\")\n",
    "        print(\"3. Access element\")\n",
    "        print(\"4. Update element\")\n",
    "        print(\"5. Traverse list\")\n",
    "        print(\"6. Exit\")\n",
    "        \n",
    "        choice = input(\"Enter your choice (1-6): \")\n",
    "        \n",
    "        if choice == '1':\n",
    "            element = input(\"Enter element to insert: \")\n",
    "            index = int(input(\"Enter index to insert at (or press Enter for end): \") or len(my_list))\n",
    "            my_list.insert(index, element)\n",
    "            print(f\"Element '{element}' inserted at index {index}\")\n",
    "        \n",
    "        elif choice == '2':\n",
    "            if not my_list:\n",
    "                print(\"List is empty. Nothing to delete.\")\n",
    "            else:\n",
    "                index = int(input(\"Enter index to delete: \"))\n",
    "                if 0 <= index < len(my_list):\n",
    "                    deleted = my_list.pop(index)\n",
    "                    print(f\"Deleted element '{deleted}' at index {index}\")\n",
    "                else:\n",
    "                    print(\"Invalid index\")\n",
    "        \n",
    "        elif choice == '3':\n",
    "            if not my_list:\n",
    "                print(\"List is empty. Nothing to access.\")\n",
    "            else:\n",
    "                index = int(input(\"Enter index to access: \"))\n",
    "                if 0 <= index < len(my_list):\n",
    "                    print(f\"Element at index {index}: {my_list[index]}\")\n",
    "                else:\n",
    "                    print(\"Invalid index\")\n",
    "        \n",
    "        elif choice == '4':\n",
    "            if not my_list:\n",
    "                print(\"List is empty. Nothing to update.\")\n",
    "            else:\n",
    "                index = int(input(\"Enter index to update: \"))\n",
    "                if 0 <= index < len(my_list):\n",
    "                    new_value = input(\"Enter new value: \")\n",
    "                    my_list[index] = new_value\n",
    "                    print(f\"Updated element at index {index} to '{new_value}'\")\n",
    "                else:\n",
    "                    print(\"Invalid index\")\n",
    "        \n",
    "        elif choice == '5':\n",
    "            if not my_list:\n",
    "                print(\"List is empty.\")\n",
    "            else:\n",
    "                print(\"List elements:\")\n",
    "                for index, element in enumerate(my_list):\n",
    "                    print(f\"Index {index}: {element}\")\n",
    "        \n",
    "        elif choice == '6':\n",
    "            print(\"Exiting program.\")\n",
    "            break\n",
    "        \n",
    "        else:\n",
    "            print(\"Invalid choice. Please enter a number between 1 and 6.\")\n",
    "\n",
    "\n",
    "list_operations()\n",
    "\n"
   ]
  },
  {
   "cell_type": "markdown",
   "metadata": {},
   "source": [
    "22. WAP to create create, access, add elements, delete, modify elements in nested list."
   ]
  },
  {
   "cell_type": "code",
   "execution_count": 23,
   "metadata": {},
   "outputs": [
    {
     "name": "stdout",
     "output_type": "stream",
     "text": [
      "Nested list: [[1, 2, 3], [4, 5, 6], [7, 8, 9]]\n",
      "Element at [1][2]: 6\n",
      "After adding a new sublist: [[1, 2, 3], [4, 5, 6], [7, 8, 9], [10, 11, 12]]\n",
      "After deleting element at [0][1]: [[1, 3], [4, 5, 6], [7, 8, 9], [10, 11, 12]]\n",
      "After modifying element at [2][1]: [[1, 3], [4, 5, 6], [7, 88, 9], [10, 11, 12]]\n"
     ]
    }
   ],
   "source": [
    "nested_list = [[1, 2, 3], [4, 5, 6], [7, 8, 9]]\n",
    "print(f\"Nested list: {nested_list}\")\n",
    "\n",
    "print(f\"Element at [1][2]: {nested_list[1][2]}\")  \n",
    "\n",
    "nested_list.append([10, 11, 12])\n",
    "print(f\"After adding a new sublist: {nested_list}\")\n",
    "\n",
    "del nested_list[0][1]\n",
    "print(f\"After deleting element at [0][1]: {nested_list}\")\n",
    "\n",
    "nested_list[2][1] = 88\n",
    "print(f\"After modifying element at [2][1]: {nested_list}\")\n",
    "\n",
    "\n"
   ]
  },
  {
   "cell_type": "markdown",
   "metadata": {},
   "source": [
    "23. Write a program for various list slicing operation.\n",
    "a= [10,20,30,40,50,60,70,80,90,100]\n",
    "i. Print Complete list\n",
    "ii. Print 4th element of list\n",
    "iii. Print list from 0th to 4th index.\n",
    "iv. Print list -7th to 3rd element\n",
    "v. Appending an element to list.\n",
    "vi. Sorting the element of list.\n",
    "vii. Popping an element.\n",
    "viii. Removing Specified element.\n",
    "ix. Entering an element at specified index.\n",
    "x. Counting the occurrence of a specified element.\n",
    "xi. Extending list.\n",
    "xii. Reversing the list."
   ]
  },
  {
   "cell_type": "code",
   "execution_count": 24,
   "metadata": {},
   "outputs": [
    {
     "name": "stdout",
     "output_type": "stream",
     "text": [
      "Complete list: [10, 20, 30, 40, 50, 60, 70, 80, 90, 100]\n",
      "4th element: 40\n",
      "0th to 4th index: [10, 20, 30, 40, 50]\n",
      "-7th to 3rd element: [40]\n",
      "After appending 110: [10, 20, 30, 40, 50, 60, 70, 80, 90, 100, 110]\n",
      "Sorted list: [10, 20, 30, 40, 50, 60, 70, 80, 90, 100, 110]\n",
      "Popped element: 110\n",
      "After removing 20: [10, 30, 40, 50, 60, 70, 80, 90, 100]\n",
      "After inserting 25 at index 2: [10, 30, 25, 40, 50, 60, 70, 80, 90, 100]\n",
      "Count of 30: 1\n",
      "After extending: [10, 30, 25, 40, 50, 60, 70, 80, 90, 100, 120, 130]\n",
      "Reversed list: [130, 120, 100, 90, 80, 70, 60, 50, 40, 25, 30, 10]\n"
     ]
    }
   ],
   "source": [
    "\n",
    "a = [10,20,30,40,50,60,70,80,90,100]\n",
    "\n",
    "print(f\"Complete list: {a}\")\n",
    "print(f\"4th element: {a[3]}\")\n",
    "print(f\"0th to 4th index: {a[0:5]}\")\n",
    "print(f\"-7th to 3rd element: {a[-7:4]}\")\n",
    "a.append(110)\n",
    "print(f\"After appending 110: {a}\")\n",
    "a.sort()\n",
    "print(f\"Sorted list: {a}\")\n",
    "popped = a.pop()\n",
    "print(f\"Popped element: {popped}\")\n",
    "a.remove(20)\n",
    "print(f\"After removing 20: {a}\")\n",
    "a.insert(2, 25)\n",
    "print(f\"After inserting 25 at index 2: {a}\")\n",
    "print(f\"Count of 30: {a.count(30)}\")\n",
    "a.extend([120, 130])\n",
    "print(f\"After extending: {a}\")\n",
    "a.reverse()\n",
    "print(f\"Reversed list: {a}\")\n"
   ]
  },
  {
   "cell_type": "markdown",
   "metadata": {},
   "source": [
    "24. WAP to add two matrices using nested list"
   ]
  },
  {
   "cell_type": "code",
   "execution_count": 25,
   "metadata": {},
   "outputs": [
    {
     "name": "stdout",
     "output_type": "stream",
     "text": [
      "Matrix 1:\n",
      "[1, 2, 3]\n",
      "[4, 5, 6]\n",
      "[7, 8, 9]\n",
      "\n",
      "Matrix 2:\n",
      "[9, 8, 7]\n",
      "[6, 5, 4]\n",
      "[3, 2, 1]\n",
      "\n",
      "Result of addition:\n",
      "[10, 10, 10]\n",
      "[10, 10, 10]\n",
      "[10, 10, 10]\n"
     ]
    }
   ],
   "source": [
    "\n",
    "\n",
    "def add_matrices(matrix1, matrix2):\n",
    "    if len(matrix1) != len(matrix2) or len(matrix1[0]) != len(matrix2[0]):\n",
    "        return \"Error: Matrices must have the same dimensions\"\n",
    "    \n",
    "    result = []\n",
    "    for i in range(len(matrix1)):\n",
    "        row = []\n",
    "        for j in range(len(matrix1[0])):\n",
    "            row.append(matrix1[i][j] + matrix2[i][j])\n",
    "        result.append(row)\n",
    "    \n",
    "    return result\n",
    "\n",
    "matrix1 = [[1, 2, 3],\n",
    "           [4, 5, 6],\n",
    "           [7, 8, 9]]\n",
    "\n",
    "matrix2 = [[9, 8, 7],\n",
    "           [6, 5, 4],\n",
    "           [3, 2, 1]]\n",
    "\n",
    "print(\"Matrix 1:\")\n",
    "for row in matrix1:\n",
    "    print(row)\n",
    "\n",
    "print(\"\\nMatrix 2:\")\n",
    "for row in matrix2:\n",
    "    print(row)\n",
    "\n",
    "result = add_matrices(matrix1, matrix2)\n",
    "\n",
    "print(\"\\nResult of addition:\")\n",
    "for row in result:\n",
    "    print(row)\n"
   ]
  },
  {
   "cell_type": "markdown",
   "metadata": {},
   "source": [
    "25. Consider a list with mixed type of elements such as l1=[1,’x’,4,5.6,’z’,9,’a’,0,4]. Create\n",
    "another list l2 using list comprehension which consist of only integer element present\n",
    "within list l1"
   ]
  },
  {
   "cell_type": "code",
   "execution_count": 26,
   "metadata": {},
   "outputs": [
    {
     "name": "stdout",
     "output_type": "stream",
     "text": [
      "Original list (l1): [1, 'x', 4, 5.6, 'z', 9, 'a', 0, 4]\n",
      "List with only integers (l2): [1, 4, 9, 0, 4]\n"
     ]
    }
   ],
   "source": [
    "\n",
    "l1 = [1, 'x', 4, 5.6, 'z', 9, 'a', 0, 4]\n",
    "\n",
    "l2 = [x for x in l1 if isinstance(x, int)]\n",
    "\n",
    "print(\"Original list (l1):\", l1)\n",
    "print(\"List with only integers (l2):\", l2)\n"
   ]
  },
  {
   "cell_type": "markdown",
   "metadata": {},
   "source": [
    "Tuple"
   ]
  },
  {
   "cell_type": "markdown",
   "metadata": {},
   "source": [
    "26. Write a Python program to compute the element-wise sum of given tuples.\n",
    "Original : (1, 2, 3, 4) (3, 5, 2, 1) (2, 2, 3, 1)\n",
    "Element-wise sum of the said tuples: (6, 9, 8, 6)"
   ]
  },
  {
   "cell_type": "code",
   "execution_count": 27,
   "metadata": {},
   "outputs": [
    {
     "name": "stdout",
     "output_type": "stream",
     "text": [
      "Original tuples:\n",
      "t1: (1, 2, 3, 4)\n",
      "t2: (3, 5, 2, 1)\n",
      "t3: (2, 2, 3, 1)\n",
      "\n",
      "Element-wise sum of the tuples:\n",
      "(6, 9, 8, 6)\n"
     ]
    }
   ],
   "source": [
    "\n",
    "def tuple_element_wise_sum(*tuples):\n",
    "    return tuple(map(sum, zip(*tuples)))\n",
    "\n",
    "t1 = (1, 2, 3, 4)\n",
    "t2 = (3, 5, 2, 1)\n",
    "t3 = (2, 2, 3, 1)\n",
    "\n",
    "result = tuple_element_wise_sum(t1, t2, t3)\n",
    "\n",
    "print(\"Original tuples:\")\n",
    "print(f\"t1: {t1}\")\n",
    "print(f\"t2: {t2}\")\n",
    "print(f\"t3: {t3}\")\n",
    "print(\"\\nElement-wise sum of the tuples:\")\n",
    "print(result)\n"
   ]
  },
  {
   "cell_type": "markdown",
   "metadata": {},
   "source": [
    "27. Write a Python program to convert a given list of tuples to a list of lists.\n",
    "Original list of tuples: [(1, 2), (2, 3), (3, 4)]\n",
    "Convert the said list of tuples to a list of lists: [[1, 2], [2, 3], [3, 4]]"
   ]
  },
  {
   "cell_type": "code",
   "execution_count": 28,
   "metadata": {},
   "outputs": [
    {
     "name": "stdout",
     "output_type": "stream",
     "text": [
      "Original list of tuples:\n",
      "[(1, 2), (2, 3), (3, 4)]\n",
      "\n",
      "Converted list of lists:\n",
      "[[1, 2], [2, 3], [3, 4]]\n"
     ]
    }
   ],
   "source": [
    "original_list = [(1, 2), (2, 3), (3, 4)]\n",
    "\n",
    "converted_list = [list(tuple_item) for tuple_item in original_list]\n",
    "\n",
    "print(\"Original list of tuples:\")\n",
    "print(original_list)\n",
    "print(\"\\nConverted list of lists:\")\n",
    "print(converted_list)\n"
   ]
  },
  {
   "cell_type": "markdown",
   "metadata": {},
   "source": [
    "28. Write a Python program to remove an empty tuple(s) from a list of tuples"
   ]
  },
  {
   "cell_type": "code",
   "execution_count": 29,
   "metadata": {},
   "outputs": [
    {
     "name": "stdout",
     "output_type": "stream",
     "text": [
      "Original list of tuples:\n",
      "[(), (1, 2), (), (3, 4, 5), (6,), (), (7, 8, 9), ()]\n",
      "\n",
      "List after removing empty tuples:\n",
      "[(1, 2), (3, 4, 5), (6,), (7, 8, 9)]\n"
     ]
    }
   ],
   "source": [
    "def remove_empty_tuples(tuple_list):\n",
    "    return [t for t in tuple_list if t]\n",
    "\n",
    "original_list = [(), (1, 2), (), (3, 4, 5), (6,), (), (7, 8, 9), ()]\n",
    "\n",
    "result = remove_empty_tuples(original_list)\n",
    "\n",
    "# Print the results\n",
    "print(\"Original list of tuples:\")\n",
    "print(original_list)\n",
    "print(\"\\nList after removing empty tuples:\")\n",
    "print(result)\n"
   ]
  },
  {
   "cell_type": "markdown",
   "metadata": {},
   "source": [
    "29. Write a Python program to convert a given string to a tuple"
   ]
  },
  {
   "cell_type": "code",
   "execution_count": 30,
   "metadata": {},
   "outputs": [
    {
     "name": "stdout",
     "output_type": "stream",
     "text": [
      "Original string:\n",
      "Hello, World!\n",
      "\n",
      "Converted tuple:\n",
      "('H', 'e', 'l', 'l', 'o', ',', ' ', 'W', 'o', 'r', 'l', 'd', '!')\n"
     ]
    }
   ],
   "source": [
    "\n",
    "def string_to_tuple(input_string):\n",
    "    return tuple(input_string)\n",
    "\n",
    "example_string = \"Hello, World!\"\n",
    "result_tuple = string_to_tuple(example_string)\n",
    "\n",
    "print(\"Original string:\")\n",
    "print(example_string)\n",
    "print(\"\\nConverted tuple:\")\n",
    "print(result_tuple)\n"
   ]
  },
  {
   "cell_type": "markdown",
   "metadata": {},
   "source": [
    "30. Write a Python program to calculate the product, mul;plying all the numbers in a given\n",
    "tuple."
   ]
  },
  {
   "cell_type": "code",
   "execution_count": 31,
   "metadata": {},
   "outputs": [
    {
     "name": "stdout",
     "output_type": "stream",
     "text": [
      "Original tuple:\n",
      "(2, 4, 5, 6, 8)\n",
      "\n",
      "Product of all numbers in the tuple:\n",
      "1920\n"
     ]
    }
   ],
   "source": [
    "\n",
    "def tuple_product(input_tuple):\n",
    "    result = 1\n",
    "    for num in input_tuple:\n",
    "        if isinstance(num, (int, float)):\n",
    "            result *= num\n",
    "    return result\n",
    "\n",
    "example_tuple = (2, 4, 5, 6, 8)\n",
    "product = tuple_product(example_tuple)\n",
    "\n",
    "print(\"Original tuple:\")\n",
    "print(example_tuple)\n",
    "print(\"\\nProduct of all numbers in the tuple:\")\n",
    "print(product)\n"
   ]
  },
  {
   "cell_type": "markdown",
   "metadata": {},
   "source": [
    "31. WAP to create a list of square of numbers from 1 to 20 using List comprehension"
   ]
  },
  {
   "cell_type": "code",
   "execution_count": 32,
   "metadata": {},
   "outputs": [
    {
     "name": "stdout",
     "output_type": "stream",
     "text": [
      "List of squares from 1 to 20:\n",
      "[1, 4, 9, 16, 25, 36, 49, 64, 81, 100, 121, 144, 169, 196, 225, 256, 289, 324, 361, 400]\n"
     ]
    }
   ],
   "source": [
    "\n",
    "squares = [x**2 for x in range(1, 21)]\n",
    "\n",
    "print(\"List of squares from 1 to 20:\")\n",
    "print(squares)\n"
   ]
  },
  {
   "cell_type": "markdown",
   "metadata": {},
   "source": [
    "Set"
   ]
  },
  {
   "cell_type": "markdown",
   "metadata": {},
   "source": [
    "32. Write a Python program to remove an item from a set if it is present in the set.\n"
   ]
  },
  {
   "cell_type": "code",
   "execution_count": 33,
   "metadata": {},
   "outputs": [
    {
     "name": "stdout",
     "output_type": "stream",
     "text": [
      "Original set: {1, 2, 3, 4, 5}\n",
      "'3' has been removed from the set.\n",
      "Updated set: {1, 2, 4, 5}\n",
      "'6' is not present in the set.\n",
      "Set after trying to remove non-existent item: {1, 2, 4, 5}\n"
     ]
    }
   ],
   "source": [
    "\n",
    "def remove_item_from_set(input_set, item_to_remove):\n",
    "    if item_to_remove in input_set:\n",
    "        input_set.remove(item_to_remove)\n",
    "        print(f\"'{item_to_remove}' has been removed from the set.\")\n",
    "    else:\n",
    "        print(f\"'{item_to_remove}' is not present in the set.\")\n",
    "    return input_set\n",
    "\n",
    "\n",
    "example_set = {1, 2, 3, 4, 5}\n",
    "print(\"Original set:\", example_set)\n",
    "\n",
    "item_to_remove = 3\n",
    "updated_set = remove_item_from_set(example_set, item_to_remove)\n",
    "print(\"Updated set:\", updated_set)\n",
    "\n",
    "item_to_remove = 6\n",
    "updated_set = remove_item_from_set(example_set, item_to_remove)\n",
    "print(\"Set after trying to remove non-existent item:\", updated_set)"
   ]
  },
  {
   "cell_type": "markdown",
   "metadata": {},
   "source": [
    "33. Write a Python program to check if two given sets have no elements in common.\n"
   ]
  },
  {
   "cell_type": "code",
   "execution_count": 34,
   "metadata": {},
   "outputs": [
    {
     "name": "stdout",
     "output_type": "stream",
     "text": [
      "Set A: {1, 2, 3, 4, 5}\n",
      "Set B: {6, 7, 8, 9, 10}\n",
      "Set C: {4, 5, 6, 7, 8}\n",
      "\n",
      "Do Set A and Set B have no elements in common? True\n",
      "Do Set A and Set C have no elements in common? False\n"
     ]
    }
   ],
   "source": [
    "\n",
    "def check_no_common_elements(set1, set2):\n",
    "   \n",
    "    return len(set1.intersection(set2)) == 0\n",
    "\n",
    "\n",
    "set_a = {1, 2, 3, 4, 5}\n",
    "set_b = {6, 7, 8, 9, 10}\n",
    "set_c = {4, 5, 6, 7, 8}\n",
    "\n",
    "print(\"Set A:\", set_a)\n",
    "print(\"Set B:\", set_b)\n",
    "print(\"Set C:\", set_c)\n",
    "\n",
    "print(\"\\nDo Set A and Set B have no elements in common?\", check_no_common_elements(set_a, set_b))\n",
    "print(\"Do Set A and Set C have no elements in common?\", check_no_common_elements(set_a, set_c))\n"
   ]
  },
  {
   "cell_type": "markdown",
   "metadata": {},
   "source": [
    "34. Get Only unique items from two sets\n"
   ]
  },
  {
   "cell_type": "code",
   "execution_count": 35,
   "metadata": {},
   "outputs": [
    {
     "name": "stdout",
     "output_type": "stream",
     "text": [
      "Set A: {1, 2, 3, 4, 5}\n",
      "Set B: {4, 5, 6, 7, 8}\n",
      "\n",
      "Unique items from Set A and Set B: {1, 2, 3, 6, 7, 8}\n",
      "\n",
      "Set C: {1, 2, 3}\n",
      "Set D: {3, 4, 5}\n",
      "\n",
      "Unique items from Set C and Set D: {1, 2, 4, 5}\n"
     ]
    }
   ],
   "source": [
    "\n",
    "\n",
    "def get_unique_items(set1, set2):\n",
    "    return set1.symmetric_difference(set2)\n",
    "\n",
    "\n",
    "set_a = {1, 2, 3, 4, 5}\n",
    "set_b = {4, 5, 6, 7, 8}\n",
    "\n",
    "print(\"Set A:\", set_a)\n",
    "print(\"Set B:\", set_b)\n",
    "\n",
    "unique_items = get_unique_items(set_a, set_b)\n",
    "print(\"\\nUnique items from Set A and Set B:\", unique_items)\n",
    "\n",
    "\n",
    "set_c = {1, 2, 3}\n",
    "set_d = {3, 4, 5}\n",
    "\n",
    "print(\"\\nSet C:\", set_c)\n",
    "print(\"Set D:\", set_d)\n",
    "\n",
    "unique_items_cd = get_unique_items(set_c, set_d)\n",
    "print(\"\\nUnique items from Set C and Set D:\", unique_items_cd)\n"
   ]
  },
  {
   "cell_type": "markdown",
   "metadata": {},
   "source": [
    "35. Write a Python program to Convert Set to one String\n"
   ]
  },
  {
   "cell_type": "code",
   "execution_count": 36,
   "metadata": {},
   "outputs": [
    {
     "name": "stdout",
     "output_type": "stream",
     "text": [
      "Original set: {'y', 'o', 'p', 'n', 'h', 't'}\n",
      "Set converted to string: yopnht\n",
      "\n",
      "Mixed data type set: {1, 2, 3, 'b', 'c', 'a'}\n",
      "Mixed set converted to string: 123bca\n"
     ]
    }
   ],
   "source": [
    "\n",
    "def set_to_string(input_set):\n",
    "  \n",
    "    return ''.join(map(str, input_set))\n",
    "\n",
    "\n",
    "example_set = {'p', 'y', 't', 'h', 'o', 'n'}\n",
    "print(\"Original set:\", example_set)\n",
    "\n",
    "result_string = set_to_string(example_set)\n",
    "print(\"Set converted to string:\", result_string)\n",
    "\n",
    "mixed_set = {1, 'a', 2, 'b', 3, 'c'}\n",
    "print(\"\\nMixed data type set:\", mixed_set)\n",
    "\n",
    "mixed_result = set_to_string(mixed_set)\n",
    "print(\"Mixed set converted to string:\", mixed_result)\n"
   ]
  },
  {
   "cell_type": "markdown",
   "metadata": {},
   "source": [
    "36. WAP to count number of vowels using sets in given string\n"
   ]
  },
  {
   "cell_type": "code",
   "execution_count": 37,
   "metadata": {},
   "outputs": [
    {
     "name": "stdout",
     "output_type": "stream",
     "text": [
      "Original string: Hello, how are you today?\n",
      "Number of vowels: 4\n",
      "\n",
      "Another string: Python Programming is Fun!\n",
      "Number of vowels: 4\n"
     ]
    }
   ],
   "source": [
    "\n",
    "def count_vowels(input_string):\n",
    "    vowels = set('aeiouAEIOU')\n",
    "    return len(set(input_string.lower()) & vowels)\n",
    "\n",
    "\n",
    "example_string = \"Hello, how are you today?\"\n",
    "print(\"Original string:\", example_string)\n",
    "vowel_count = count_vowels(example_string)\n",
    "print(\"Number of vowels:\", vowel_count)\n",
    "\n",
    "another_string = \"Python Programming is Fun!\"\n",
    "print(\"\\nAnother string:\", another_string)\n",
    "another_vowel_count = count_vowels(another_string)\n",
    "print(\"Number of vowels:\", another_vowel_count)\n"
   ]
  },
  {
   "cell_type": "markdown",
   "metadata": {},
   "source": [
    "37. WAP to create a set of cubes of even numbers from 2 to 12 using set comprehension."
   ]
  },
  {
   "cell_type": "code",
   "execution_count": 38,
   "metadata": {},
   "outputs": [
    {
     "name": "stdout",
     "output_type": "stream",
     "text": [
      "Set of cubes of even numbers from 2 to 12:\n",
      "{512, 64, 1728, 8, 1000, 216}\n"
     ]
    }
   ],
   "source": [
    "\n",
    "even_cubes = {x**3 for x in range(2, 13, 2)}\n",
    "\n",
    "print(\"Set of cubes of even numbers from 2 to 12:\")\n",
    "print(even_cubes)\n"
   ]
  },
  {
   "cell_type": "markdown",
   "metadata": {},
   "source": [
    "Dictionary"
   ]
  },
  {
   "cell_type": "markdown",
   "metadata": {},
   "source": [
    "38. Write a Python script to sort (ascending and descending) a dic;onary by value.\n"
   ]
  },
  {
   "cell_type": "code",
   "execution_count": 39,
   "metadata": {},
   "outputs": [
    {
     "name": "stdout",
     "output_type": "stream",
     "text": [
      "Original dictionary: {'apple': 5, 'banana': 2, 'orange': 8, 'grape': 1, 'kiwi': 7}\n",
      "Sorted in ascending order: {'grape': 1, 'banana': 2, 'apple': 5, 'kiwi': 7, 'orange': 8}\n",
      "Sorted in descending order: {'orange': 8, 'kiwi': 7, 'apple': 5, 'banana': 2, 'grape': 1}\n"
     ]
    }
   ],
   "source": [
    "\n",
    "def sort_dict_by_value(dictionary, reverse=False):\n",
    "  \n",
    "    return dict(sorted(dictionary.items(), key=lambda item: item[1], reverse=reverse))\n",
    "\n",
    "\n",
    "example_dict = {'apple': 5, 'banana': 2, 'orange': 8, 'grape': 1, 'kiwi': 7}\n",
    "\n",
    "print(\"Original dictionary:\", example_dict)\n",
    "\n",
    "\n",
    "ascending_sorted = sort_dict_by_value(example_dict)\n",
    "print(\"Sorted in ascending order:\", ascending_sorted)\n",
    "\n",
    "\n",
    "descending_sorted = sort_dict_by_value(example_dict, reverse=True)\n",
    "print(\"Sorted in descending order:\", descending_sorted)\n"
   ]
  },
  {
   "cell_type": "markdown",
   "metadata": {},
   "source": [
    "39. Write a Python program to remove duplicates from the dic;onary.\n"
   ]
  },
  {
   "cell_type": "code",
   "execution_count": 40,
   "metadata": {},
   "outputs": [
    {
     "name": "stdout",
     "output_type": "stream",
     "text": [
      "Original dictionary: {'apple': 5, 'banana': 2, 'orange': 5, 'grape': 1, 'kiwi': 2, 'pear': 1}\n",
      "Dictionary with duplicates removed: {'orange': 5, 'kiwi': 2, 'pear': 1}\n"
     ]
    }
   ],
   "source": [
    "\n",
    "def remove_duplicates_from_dict(dictionary):\n",
    "  \n",
    "    return {value: key for key, value in dict(zip(dictionary.values(), dictionary.keys())).items()}\n",
    "\n",
    "\n",
    "example_dict = {'apple': 5, 'banana': 2, 'orange': 5, 'grape': 1, 'kiwi': 2, 'pear': 1}\n",
    "\n",
    "print(\"Original dictionary:\", example_dict)\n",
    "\n",
    "\n",
    "deduplicated_dict = remove_duplicates_from_dict(example_dict)\n",
    "print(\"Dictionary with duplicates removed:\", deduplicated_dict)\n"
   ]
  },
  {
   "cell_type": "markdown",
   "metadata": {},
   "source": [
    "40. Write a Python program to combine two dic;onary by adding values for common keys.\n"
   ]
  },
  {
   "cell_type": "code",
   "execution_count": 41,
   "metadata": {},
   "outputs": [
    {
     "name": "stdout",
     "output_type": "stream",
     "text": [
      "Dictionary 1: {'a': 100, 'b': 200, 'c': 300}\n",
      "Dictionary 2: {'a': 300, 'b': 200, 'd': 400}\n",
      "Combined dictionary: {'a': 400, 'b': 400, 'c': 300, 'd': 400}\n"
     ]
    }
   ],
   "source": [
    "\n",
    "def combine_dicts(dict1, dict2):\n",
    "\n",
    "    result = dict1.copy()\n",
    "    for key, value in dict2.items():\n",
    "        if key in result:\n",
    "            result[key] += value\n",
    "        else:\n",
    "            result[key] = value\n",
    "    return result\n",
    "\n",
    "\n",
    "dict1 = {'a': 100, 'b': 200, 'c': 300}\n",
    "dict2 = {'a': 300, 'b': 200, 'd': 400}\n",
    "\n",
    "print(\"Dictionary 1:\", dict1)\n",
    "print(\"Dictionary 2:\", dict2)\n",
    "\n",
    "\n",
    "combined_dict = combine_dicts(dict1, dict2)\n",
    "print(\"Combined dictionary:\", combined_dict)\n"
   ]
  },
  {
   "cell_type": "markdown",
   "metadata": {},
   "source": [
    "41. Write a Python program to create a dic;onary from a string. ( Track the count of the\n",
    "leters from the string.)\n"
   ]
  },
  {
   "cell_type": "code",
   "execution_count": 42,
   "metadata": {},
   "outputs": [
    {
     "name": "stdout",
     "output_type": "stream",
     "text": [
      "Input string: Hello World\n",
      "Letter count dictionary: {'w': 1, 'o': 2, 'e': 1, 'h': 1, 'r': 1, 'd': 1, 'l': 3}\n"
     ]
    }
   ],
   "source": [
    "\n",
    "def create_dict_from_string(input_string):\n",
    "    # Remove spaces and convert to lowercase for consistent counting\n",
    "    cleaned_string = input_string.replace(\" \", \"\").lower()\n",
    "    \n",
    "    # Create the dictionary using a dictionary comprehension\n",
    "    letter_count = {char: cleaned_string.count(char) for char in set(cleaned_string)}\n",
    "    \n",
    "    return letter_count\n",
    "\n",
    "# Example usage\n",
    "example_string = \"Hello World\"\n",
    "result = create_dict_from_string(example_string)\n",
    "\n",
    "print(\"Input string:\", example_string)\n",
    "print(\"Letter count dictionary:\", result)\n"
   ]
  },
  {
   "cell_type": "markdown",
   "metadata": {},
   "source": [
    "42. Write a Python program to match key and values both, in two dic;onaries.\n"
   ]
  },
  {
   "cell_type": "code",
   "execution_count": 43,
   "metadata": {},
   "outputs": [
    {
     "name": "stdout",
     "output_type": "stream",
     "text": [
      "Dictionary 1: {'a': 1, 'b': 2, 'c': 3, 'd': 4}\n",
      "Dictionary 2: {'a': 1, 'b': 2, 'c': 5, 'e': 4}\n",
      "Matched key-value pairs: {'a': 1, 'b': 2}\n"
     ]
    }
   ],
   "source": [
    "\n",
    "def match_key_values(dict1, dict2):\n",
    "    return {k: v for k, v in dict1.items() if k in dict2 and dict2[k] == v}\n",
    "\n",
    "\n",
    "dict1 = {'a': 1, 'b': 2, 'c': 3, 'd': 4}\n",
    "dict2 = {'a': 1, 'b': 2, 'c': 5, 'e': 4}\n",
    "\n",
    "matched = match_key_values(dict1, dict2)\n",
    "\n",
    "print(\"Dictionary 1:\", dict1)\n",
    "print(\"Dictionary 2:\", dict2)\n",
    "print(\"Matched key-value pairs:\", matched)\n"
   ]
  },
  {
   "cell_type": "markdown",
   "metadata": {},
   "source": [
    "43. Use dic;onary comprehension to convert the price of following dic;onary from dollar to\n",
    "pound\n",
    "old_price = {'milk': 1.02, 'coffee': 2.5, 'bread': 2.5}\n"
   ]
  },
  {
   "cell_type": "code",
   "execution_count": 44,
   "metadata": {},
   "outputs": [
    {
     "name": "stdout",
     "output_type": "stream",
     "text": [
      "Original prices (in dollars): {'milk': 1.02, 'coffee': 2.5, 'bread': 2.5}\n",
      "Converted prices (in pounds): {'milk': 0.81, 'coffee': 1.98, 'bread': 1.98}\n"
     ]
    }
   ],
   "source": [
    "\n",
    "\n",
    "old_price = {'milk': 1.02, 'coffee': 2.5, 'bread': 2.5}\n",
    "\n",
    "dollar_to_pound = 0.79\n",
    "\n",
    "new_price = {item: round(price * dollar_to_pound, 2) for item, price in old_price.items()}\n",
    "\n",
    "\n",
    "print(\"Original prices (in dollars):\", old_price)\n",
    "print(\"Converted prices (in pounds):\", new_price)\n"
   ]
  },
  {
   "cell_type": "markdown",
   "metadata": {},
   "source": [
    "44.Use dic;onary comprehension to create a dic;onary to store only key value pairs having\n",
    "even age.\n",
    "original_dict = {'jack': 38, 'michael': 48, 'guido': 57, 'john': 33}"
   ]
  },
  {
   "cell_type": "code",
   "execution_count": 45,
   "metadata": {},
   "outputs": [
    {
     "name": "stdout",
     "output_type": "stream",
     "text": [
      "Original dictionary: {'jack': 38, 'michael': 48, 'guido': 57, 'john': 33}\n",
      "Dictionary with even ages: {'jack': 38, 'michael': 48}\n"
     ]
    }
   ],
   "source": [
    "original_dict = {'jack': 38, 'michael': 48, 'guido': 57, 'john': 33}\n",
    "even_age_dict = {name: age for name, age in original_dict.items() if age % 2 == 0}\n",
    "\n",
    "print(\"Original dictionary:\", original_dict)\n",
    "print(\"Dictionary with even ages:\", even_age_dict)\n"
   ]
  }
 ],
 "metadata": {
  "kernelspec": {
   "display_name": "Python 3",
   "language": "python",
   "name": "python3"
  },
  "language_info": {
   "codemirror_mode": {
    "name": "ipython",
    "version": 3
   },
   "file_extension": ".py",
   "mimetype": "text/x-python",
   "name": "python",
   "nbconvert_exporter": "python",
   "pygments_lexer": "ipython3",
   "version": "3.12.6"
  }
 },
 "nbformat": 4,
 "nbformat_minor": 2
}
