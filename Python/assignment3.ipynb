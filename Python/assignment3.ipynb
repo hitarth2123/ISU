{
 "cells": [
  {
   "cell_type": "markdown",
   "metadata": {},
   "source": [
    "                                                                                        Assignment 3              "
   ]
  },
  {
   "cell_type": "markdown",
   "metadata": {},
   "source": [
    "Hitarth Patel  \n",
    "150096724046"
   ]
  },
  {
   "cell_type": "markdown",
   "metadata": {},
   "source": [
    "OOPS "
   ]
  },
  {
   "cell_type": "markdown",
   "metadata": {},
   "source": [
    "1. Create a person class with:\n",
    "i) two instance variable: name, age.\n",
    "ii) Create a parameterized constructor\n",
    "\n",
    "Create a student class. Inherit person class in Student class.\n",
    "Student class have:\n",
    "i) instance variable: rollno and stream.\n",
    "ii) Create a parameterized constructor to initialize all instance variables of\n",
    "student class as well as Person class\n",
    "iii)Instance method: display() to print name, age, rollno and stream\n",
    "\n",
    "Create an object of Student class and call display method"
   ]
  },
  {
   "cell_type": "code",
   "execution_count": 1,
   "metadata": {},
   "outputs": [],
   "source": [
    "\n",
    "class Person:\n",
    "    def __init__(self, name, age):\n",
    "        self.name = name\n",
    "        self.age = age\n",
    "\n",
    "class Student(Person):\n",
    "    def __init__(self, name, age, rollno, stream):\n",
    "        super().__init__(name, age)\n",
    "        self.rollno = rollno\n",
    "        self.stream = stream\n",
    "\n",
    "    def display(self):\n",
    "        print(f\"Name: {self.name}, Age: {self.age}, Roll No: {self.rollno}, Stream: {self.stream}\")\n",
    "\n",
    "        student = Student(\"John\", 20, \"12345\", \"Science\")\n",
    "        student.display()"
   ]
  },
  {
   "cell_type": "markdown",
   "metadata": {},
   "source": [
    "2. Write a Python class named Circle. Declare an instance variable, radius and\n",
    "two methods that will compute the area and the perimeter of a circle."
   ]
  },
  {
   "cell_type": "code",
   "execution_count": null,
   "metadata": {},
   "outputs": [],
   "source": [
    "        \n",
    "class Circle:\n",
    "    def __init__(self, radius):\n",
    "        self.radius = radius\n",
    "\n",
    "    def area(self):\n",
    "        return 3.14 * self.radius ** 2\n",
    "\n",
    "    def perimeter(self):\n",
    "        return 2 * 3.14 * self.radius\n"
   ]
  },
  {
   "cell_type": "markdown",
   "metadata": {},
   "source": [
    "3. Write a Python program to create a calculator class. Include methods for\n",
    "basic arithmetic operations."
   ]
  },
  {
   "cell_type": "code",
   "execution_count": null,
   "metadata": {},
   "outputs": [],
   "source": [
    "class Calculator:\n",
    "    def add(self, a, b):\n",
    "        return a + b\n",
    "\n",
    "    def subtract(self, a, b):\n",
    "        return a - b\n",
    "\n",
    "    def multiply(self, a, b):\n",
    "        return a * b\n",
    "\n",
    "    def divide(self, a, b):\n",
    "        if b == 0:\n",
    "            return \"Error! Division by zero.\"\n",
    "        else:\n",
    "            return a / b"
   ]
  },
  {
   "cell_type": "markdown",
   "metadata": {},
   "source": [
    "4. Write a Python program to create a class representing a shopping cart.\n",
    "Include methods for adding and removing items, and calculating the total\n",
    "price."
   ]
  },
  {
   "cell_type": "code",
   "execution_count": null,
   "metadata": {},
   "outputs": [],
   "source": [
    "class ShoppingCart:\n",
    "    def __init__(self):\n",
    "        self.items = {}\n",
    "\n",
    "    def add_item(self, name, price, quantity):\n",
    "        if name in self.items:\n",
    "            self.items[name]['quantity'] += quantity\n",
    "        else:\n",
    "            self.items[name] = {'price': price, 'quantity': quantity}\n",
    "\n",
    "    def remove_item(self, name, quantity):\n",
    "        if name in self.items:\n",
    "            if self.items[name]['quantity'] <= quantity:\n",
    "                del self.items[name]\n",
    "            else:\n",
    "                self.items[name]['quantity'] -= quantity\n",
    "\n",
    "    def calculate_total(self):\n",
    "        total = 0\n",
    "        for item in self.items.values():\n",
    "            total += item['price'] * item['quantity']\n",
    "        return total\n",
    "\n"
   ]
  },
  {
   "cell_type": "markdown",
   "metadata": {},
   "source": [
    "5. Write a Python class Employee with attributes like emp_id, emp_name,\n",
    "emp_salary, and emp_department and methods like calculate_emp_salary,\n",
    "emp_assign_department, and print_employee_details.\n",
    "Sample Employee Data:\n",
    "\"ADAMS\", \"E7876\", 50000, \"ACCOUNTING\"\n",
    "\"JONES\", \"E7499\", 45000, \"RESEARCH\"\n",
    "\"MARTIN\", \"E7900\", 50000, \"SALES\"\n",
    "\"SMITH\", \"E7698\", 55000, \"OPERATIONS\"\n",
    "\n",
    "• Use 'assign_department' method to change the department of an\n",
    "employee.\n",
    "• Use 'print_employee_details' method to print the details of an\n",
    "employee.\n",
    "• Use 'calculate_emp_salary' method takes two arguments: salary and\n",
    "hours_worked, which is the number of hours worked by the employee.\n",
    "If the number of hours worked is more than 50, the method computes\n",
    "overtime and adds it to the salary. Overtime is calculated as following\n",
    "formula:\n",
    "• overtime = hours_worked - 50\n",
    "Overtime amount = (overtime * (salary / 50))"
   ]
  },
  {
   "cell_type": "code",
   "execution_count": null,
   "metadata": {},
   "outputs": [],
   "source": [
    "\n",
    "class Employee:\n",
    "    def __init__(self, emp_id, emp_name, emp_salary, emp_department):\n",
    "        self.emp_id = emp_id\n",
    "        self.emp_name = emp_name\n",
    "        self.emp_salary = emp_salary\n",
    "        self.emp_department = emp_department\n",
    "\n",
    "    def calculate_emp_salary(self, salary, hours_worked):\n",
    "        if hours_worked > 50:\n",
    "            overtime = hours_worked - 50\n",
    "            overtime_amount = overtime * (salary / 50)\n",
    "            return salary + overtime_amount\n",
    "        else:\n",
    "            return salary\n",
    "\n",
    "    def emp_assign_department(self, new_department):\n",
    "        self.emp_department = new_department\n",
    "\n",
    "    def print_employee_details(self):\n",
    "        print(\"Employee ID:\", self.emp_id)\n",
    "        print(\"Employee Name:\", self.emp_name)\n",
    "        print(\"Employee Salary:\", self.emp_salary)\n",
    "        print(\"Employee Department:\", self.emp_department)"
   ]
  },
  {
   "cell_type": "markdown",
   "metadata": {},
   "source": [
    "6. Write a Python class BankAccount with attributes like account_number,\n",
    "balance, date_of_opening and customer_name, and methods like deposit,\n",
    "withdraw, and check_balance."
   ]
  },
  {
   "cell_type": "code",
   "execution_count": null,
   "metadata": {},
   "outputs": [],
   "source": [
    "class BankAccount:\n",
    "    def __init__(self, account_number, customer_name, date_of_opening, balance=0):\n",
    "        self.account_number = account_number\n",
    "        self.customer_name = customer_name\n",
    "        self.date_of_opening = date_of_opening\n",
    "        self.balance = balance\n",
    "\n",
    "    def deposit(self, amount):\n",
    "        self.balance += amount\n",
    "\n",
    "    def withdraw(self, amount):\n",
    "        if amount > self.balance:\n",
    "            print(\"Insufficient balance\")\n",
    "        else:\n",
    "            self.balance -= amount\n",
    "\n",
    "    def check_balance(self):\n",
    "        return self.balance\n",
    "\n"
   ]
  },
  {
   "cell_type": "markdown",
   "metadata": {},
   "source": [
    "7. Create a class hierarchy for different types of geometric shapes, including\n",
    "circles, rectangles, and triangles, using inheritance.\n",
    "Tasks:\n",
    "A. Define a base class called Shape with common attributes\n",
    "like colour and area.\n",
    "B. Implement subclasses for specific shape types such\n",
    "as Circle, Rectangle, and Triangle. Each subclass should inherit\n",
    "from the Shape class.\n",
    "C. Incorporate additional attributes and methods specific to each\n",
    "shape type. For example, a Circle class might have attributes\n",
    "like radius and methods like calculate_area.\n",
    "D. Use inheritance to create subclasses representing variations within\n",
    "each shape type. For example, within the Rectangle class, create\n",
    "subclasses for Square and Parallelogram.\n",
    "E. Implement methods or attributes in the subclasses to demonstrate\n",
    "how inheritance allows for the sharing of attributes and methods\n",
    "from parent classes.\n",
    "F. Create instances of the various shape classes and test their\n",
    "functionality to ensure that attributes and methods work as\n",
    "expected."
   ]
  },
  {
   "cell_type": "code",
   "execution_count": 2,
   "metadata": {},
   "outputs": [
    {
     "name": "stdout",
     "output_type": "stream",
     "text": [
      "Circle Area: 78.5\n",
      "Rectangle Area: 24\n",
      "Triangle Area: 6.0\n",
      "Square Area: 25\n",
      "Parallelogram Area: 24\n"
     ]
    }
   ],
   "source": [
    "\n",
    "class Shape:\n",
    "    def __init__(self, color):\n",
    "        self.color = color\n",
    "\n",
    "    def calculate_area(self):\n",
    "        pass\n",
    "\n",
    "class Circle(Shape):\n",
    "    def __init__(self, color, radius):\n",
    "        super().__init__(color)\n",
    "        self.radius = radius\n",
    "\n",
    "    def calculate_area(self):\n",
    "        return 3.14 * self.radius * self.radius\n",
    "\n",
    "class Rectangle(Shape):\n",
    "    def __init__(self, color, length, width):\n",
    "        super().__init__(color)\n",
    "        self.length = length\n",
    "        self.width = width\n",
    "\n",
    "    def calculate_area(self):\n",
    "        return self.length * self.width\n",
    "\n",
    "class Triangle(Shape):\n",
    "    def __init__(self, color, base, height):\n",
    "        super().__init__(color)\n",
    "        self.base = base\n",
    "        self.height = height\n",
    "\n",
    "    def calculate_area(self):\n",
    "        return 0.5 * self.base * self.height\n",
    "\n",
    "class Square(Rectangle):\n",
    "    def __init__(self, color, side):\n",
    "        super().__init__(color, side, side)\n",
    "\n",
    "class Parallelogram(Rectangle):\n",
    "    def __init__(self, color, base, height):\n",
    "        super().__init__(color, base, height)\n",
    "\n",
    "circle = Circle('red', 5)\n",
    "print(\"Circle Area:\", circle.calculate_area())\n",
    "\n",
    "rectangle = Rectangle('blue', 4, 6)\n",
    "print(\"Rectangle Area:\", rectangle.calculate_area())\n",
    "\n",
    "triangle = Triangle('green', 3, 4)\n",
    "print(\"Triangle Area:\", triangle.calculate_area())\n",
    "\n",
    "square = Square('yellow', 5)\n",
    "print(\"Square Area:\", square.calculate_area())\n",
    "\n",
    "parallelogram = Parallelogram('purple', 4, 6)\n",
    "print(\"Parallelogram Area:\", parallelogram.calculate_area())\n",
    "\n"
   ]
  },
  {
   "cell_type": "markdown",
   "metadata": {},
   "source": [
    "File Handling"
   ]
  },
  {
   "cell_type": "markdown",
   "metadata": {},
   "source": [
    "8. WAP to find the number of words in the given text file\n",
    "Hints:\n",
    "Use the split() method to separate words."
   ]
  },
  {
   "cell_type": "code",
   "execution_count": null,
   "metadata": {},
   "outputs": [],
   "source": [
    "def count_words_in_file(filename):\n",
    "    try:\n",
    "        with open(filename, 'r') as file:\n",
    "            text = file.read()\n",
    "            words = text.split()\n",
    "            return len(words)\n",
    "    except FileNotFoundError:\n",
    "        print(\"File not found.\")\n",
    "        return None\n",
    "\n"
   ]
  },
  {
   "cell_type": "markdown",
   "metadata": {},
   "source": [
    "9. Write a program to write “Happy Programming” in a text file and read it"
   ]
  },
  {
   "cell_type": "code",
   "execution_count": 3,
   "metadata": {},
   "outputs": [
    {
     "name": "stdout",
     "output_type": "stream",
     "text": [
      "Happy Programming\n"
     ]
    }
   ],
   "source": [
    "with open(\"happy_programming.txt\", \"w\") as file:\n",
    "    file.write(\"Happy Programming\")\n",
    "\n",
    "with open(\"happy_programming.txt\", \"r\") as file:\n",
    "    print(file.read())\n",
    "\n"
   ]
  },
  {
   "cell_type": "markdown",
   "metadata": {},
   "source": [
    "10.WAP to demonstrate the working of the following functions:\n",
    "i) read()\n",
    "ii) read(n)\n",
    "iii)readline()\n",
    "iv) readlines()"
   ]
  },
  {
   "cell_type": "code",
   "execution_count": null,
   "metadata": {},
   "outputs": [],
   "source": [
    "with open(\"happy_programming.txt\", \"r\") as file:\n",
    "        print(\"read():\", file.read())\n",
    "\n",
    "with open(\"happy_programming.txt\", \"r\") as file:\n",
    "        print(\"read(5):\", file.read(5))\n",
    "\n",
    "with open(\"happy_programming.txt\", \"r\") as file:\n",
    "        print(\"readline():\", file.readline())\n",
    "\n",
    "with open(\"happy_programming.txt\", \"r\") as file:\n",
    "        print(\"readlines():\", file.readlines())"
   ]
  },
  {
   "cell_type": "markdown",
   "metadata": {},
   "source": [
    "11.WAP that exhibits the working of the following functions:\n",
    "i. write()\n",
    "ii. writelines()"
   ]
  },
  {
   "cell_type": "code",
   "execution_count": null,
   "metadata": {},
   "outputs": [],
   "source": [
    "\n",
    "with open(\"happy_programming.txt\", \"a\") as file:\n",
    "    file.write(\"I love programming\\n\")\n",
    "    file.writelines([\"I love programming\\n\", \"I love Python\\n\"])\n"
   ]
  },
  {
   "cell_type": "markdown",
   "metadata": {},
   "source": [
    "12.Write a Python program to read first n lines of a file."
   ]
  },
  {
   "cell_type": "code",
   "execution_count": 4,
   "metadata": {},
   "outputs": [
    {
     "name": "stdout",
     "output_type": "stream",
     "text": [
      "Happy Programming\n",
      "\n"
     ]
    }
   ],
   "source": [
    "\n",
    "def read_n_lines(file_name, n):\n",
    "    with open(file_name, 'r') as file:\n",
    "        for i in range(n):\n",
    "            print(file.readline().strip())\n",
    "\n",
    "read_n_lines(\"happy_programming.txt\", 2)"
   ]
  },
  {
   "cell_type": "markdown",
   "metadata": {},
   "source": [
    "13.Write a Python program to append text to a file and display the text."
   ]
  },
  {
   "cell_type": "code",
   "execution_count": null,
   "metadata": {},
   "outputs": [],
   "source": [
    "def append_and_display(file_name, text):\n",
    "    with open(file_name, 'a') as file:\n",
    "        file.write(text + '\\n')\n",
    "    with open(file_name, 'r') as file:\n",
    "        print(file.read())\n",
    "\n",
    "append_and_display(\"happy_programming.txt\", \"Hello, World!\")"
   ]
  },
  {
   "cell_type": "markdown",
   "metadata": {},
   "source": [
    "14.Write a Python program to read last n lines of a file."
   ]
  },
  {
   "cell_type": "code",
   "execution_count": null,
   "metadata": {},
   "outputs": [],
   "source": [
    "def read_last_n_lines(file_name, n):\n",
    "    with open(file_name, 'r') as file:\n",
    "        lines = file.readlines()\n",
    "        for line in lines[-n:]:\n",
    "            print(line.strip())\n"
   ]
  },
  {
   "cell_type": "markdown",
   "metadata": {},
   "source": [
    "15.Write a Python program to read a file line by line and store it into a list."
   ]
  },
  {
   "cell_type": "code",
   "execution_count": null,
   "metadata": {},
   "outputs": [],
   "source": [
    "\n",
    "def read_file_to_list(file_name):\n",
    "    with open(file_name, 'r') as file:\n",
    "        lines = file.readlines()\n",
    "        lines = [line.strip() for line in lines]\n",
    "        return lines"
   ]
  },
  {
   "cell_type": "markdown",
   "metadata": {},
   "source": [
    "Exception Handling"
   ]
  },
  {
   "cell_type": "markdown",
   "metadata": {},
   "source": [
    "16.Write a program to exhibit these concepts:\n",
    "\n",
    "i. try\n",
    "ii. except\n",
    "iii. finally"
   ]
  },
  {
   "cell_type": "code",
   "execution_count": null,
   "metadata": {},
   "outputs": [],
   "source": [
    "def read_file_to_list(file_name):\n",
    "    try:\n",
    "        with open(file_name, 'r') as file:\n",
    "            lines = file.readlines()\n",
    "            lines = [line.strip() for line in lines]\n",
    "            return lines\n",
    "    except FileNotFoundError:\n",
    "        print(\"File not found.\")\n",
    "    finally:\n",
    "        print(\"File reading operation completed.\")\n",
    "\n",
    "read_file_to_list(\"happy_programming.txt\")\n",
    "\n"
   ]
  },
  {
   "cell_type": "markdown",
   "metadata": {},
   "source": [
    "17.Write a Python program to handle a ZeroDivisionError exception when\n",
    "dividing a number by zero."
   ]
  },
  {
   "cell_type": "code",
   "execution_count": 5,
   "metadata": {},
   "outputs": [
    {
     "name": "stdout",
     "output_type": "stream",
     "text": [
      "The result is: 5.0\n",
      "Division operation completed.\n",
      "Error: Division by zero is not allowed.\n",
      "Division operation completed.\n"
     ]
    }
   ],
   "source": [
    "def divide_numbers(num1, num2):\n",
    "    try:\n",
    "        result = num1 / num2\n",
    "        print(\"The result is:\", result)\n",
    "    except ZeroDivisionError:\n",
    "        print(\"Error: Division by zero is not allowed.\")\n",
    "    except TypeError:\n",
    "        print(\"Error: Invalid input type.\")\n",
    "    finally:\n",
    "        print(\"Division operation completed.\")\n",
    "\n",
    "# Test the function\n",
    "divide_numbers(10, 2)\n",
    "divide_numbers(10, 0)\n"
   ]
  },
  {
   "cell_type": "markdown",
   "metadata": {},
   "source": [
    "18.Write a Python program that prompts the user to input an integer and raises a\n",
    "ValueError exception if the input is not a valid integer."
   ]
  },
  {
   "cell_type": "code",
   "execution_count": null,
   "metadata": {},
   "outputs": [],
   "source": [
    "def get_valid_integer():\n",
    "    while True:\n",
    "        try:\n",
    "            num = int(input(\"Enter an integer: \"))\n",
    "            return num\n",
    "        except ValueError:\n",
    "            print(\"Invalid input. Please enter a valid integer.\")\n",
    "\n",
    "# Test the function\n",
    "get_valid_integer()"
   ]
  },
  {
   "cell_type": "markdown",
   "metadata": {},
   "source": [
    "19.WAP that exhibits multiple except blocks along with default block"
   ]
  },
  {
   "cell_type": "code",
   "execution_count": null,
   "metadata": {},
   "outputs": [],
   "source": [
    "try:\n",
    "    num1 = int(input(\"Enter the first number: \"))\n",
    "    num2 = int(input(\"Enter the second number: \"))\n",
    "    result = num1 / num2\n",
    "except ZeroDivisionError:\n",
    "    print(\"Error: Division by zero is not allowed.\")\n",
    "except ValueError:\n",
    "    print(\"Error: Invalid input. Please enter a valid integer.\")\n",
    "except Exception as e:\n",
    "    print(\"An unexpected error occurred:\", str(e))\n",
    "else:\n",
    "    print(\"The result is:\", result)\n",
    "finally:\n",
    "    print(\"Operation completed.\")"
   ]
  },
  {
   "cell_type": "markdown",
   "metadata": {},
   "source": [
    "20.WAP that exhibits except blocks that can catch multiple exceptions."
   ]
  },
  {
   "cell_type": "code",
   "execution_count": 7,
   "metadata": {},
   "outputs": [],
   "source": [
    "try:\n",
    "        num1 = 10 / 2\n",
    "except (ZeroDivisionError, ValueError) as e:\n",
    "        print(\"Error:\", str(e))\n",
    "except Exception as e:\n",
    "        print(\"An unexpected error occurred:\", str(e))"
   ]
  },
  {
   "cell_type": "markdown",
   "metadata": {},
   "source": [
    "Lambda"
   ]
  },
  {
   "cell_type": "markdown",
   "metadata": {},
   "source": [
    "21.WAP to demonstrate how to use lambda in map() function."
   ]
  },
  {
   "cell_type": "code",
   "execution_count": null,
   "metadata": {},
   "outputs": [],
   "source": [
    "numbers = [1, 2, 3, 4, 5]\n",
    "squares = list(map(lambda x: x**2, numbers))\n",
    "print(squares)"
   ]
  },
  {
   "cell_type": "markdown",
   "metadata": {},
   "source": [
    "22.WAP to demonstrate how to use lambda in filter() function."
   ]
  },
  {
   "cell_type": "code",
   "execution_count": 16,
   "metadata": {},
   "outputs": [
    {
     "name": "stdout",
     "output_type": "stream",
     "text": [
      "[2, 4, 6, 8, 10]\n"
     ]
    }
   ],
   "source": [
    "numbers = [1, 2, 3, 4, 5, 6, 7, 8, 9, 10]\n",
    "even_numbers = list(filter(lambda x: x % 2 == 0, numbers))\n",
    "print(even_numbers)"
   ]
  },
  {
   "cell_type": "markdown",
   "metadata": {},
   "source": [
    "23.Write a Python program to filter a list of integers into list of even numbers\n",
    "and list of odd numbers using Lambda. [Hint: use lambda in filter() ]"
   ]
  },
  {
   "cell_type": "code",
   "execution_count": 15,
   "metadata": {},
   "outputs": [
    {
     "name": "stdout",
     "output_type": "stream",
     "text": [
      "Even numbers: [2, 4, 6, 8, 10]\n",
      "Odd numbers: [1, 3, 5, 7, 9]\n"
     ]
    }
   ],
   "source": [
    "numbers = [1, 2, 3, 4, 5, 6, 7, 8, 9, 10]\n",
    "even_numbers = list(filter(lambda x: x % 2 == 0, numbers))\n",
    "odd_numbers = list(filter(lambda x: x % 2 != 0, numbers))\n",
    "print(\"Even numbers:\", even_numbers)\n",
    "print(\"Odd numbers:\", odd_numbers)"
   ]
  },
  {
   "cell_type": "markdown",
   "metadata": {},
   "source": [
    "24.Write a Python program to square and cube every number in a given list of\n",
    "integers using Lambda. [Hint: use lambda in map() ]."
   ]
  },
  {
   "cell_type": "code",
   "execution_count": 12,
   "metadata": {},
   "outputs": [
    {
     "name": "stdout",
     "output_type": "stream",
     "text": [
      "Squares: [1, 4, 9, 16, 25]\n",
      "Cubes: [1, 8, 27, 64, 125]\n"
     ]
    }
   ],
   "source": [
    "numbers = [1, 2, 3, 4, 5]\n",
    "squares = list(map(lambda x: x**2, numbers))\n",
    "cubes = list(map(lambda x: x**3, numbers))\n",
    "print(\"Squares:\", squares)\n",
    "print(\"Cubes:\", cubes)"
   ]
  },
  {
   "cell_type": "markdown",
   "metadata": {},
   "source": [
    "25.Write a Python program to create a lambda function that adds 15 to a given\n",
    "number passed in as an argument."
   ]
  },
  {
   "cell_type": "code",
   "execution_count": null,
   "metadata": {},
   "outputs": [],
   "source": [
    "add_fifteen = lambda x: x + 15"
   ]
  },
  {
   "cell_type": "markdown",
   "metadata": {},
   "source": [
    "26.Create a lambda function that multiplies argument x with argument y and\n",
    "prints the result."
   ]
  },
  {
   "cell_type": "code",
   "execution_count": 11,
   "metadata": {},
   "outputs": [],
   "source": [
    "multiply = lambda x, y: print(x * y)\n"
   ]
  }
 ],
 "metadata": {
  "kernelspec": {
   "display_name": "Python 3",
   "language": "python",
   "name": "python3"
  },
  "language_info": {
   "codemirror_mode": {
    "name": "ipython",
    "version": 3
   },
   "file_extension": ".py",
   "mimetype": "text/x-python",
   "name": "python",
   "nbconvert_exporter": "python",
   "pygments_lexer": "ipython3",
   "version": "3.12.6"
  }
 },
 "nbformat": 4,
 "nbformat_minor": 2
}
